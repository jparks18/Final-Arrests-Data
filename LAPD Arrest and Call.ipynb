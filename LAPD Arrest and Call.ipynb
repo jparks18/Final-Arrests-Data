{
 "cells": [
  {
   "cell_type": "markdown",
   "id": "b740c61e-bc3b-45bd-9756-5ab57162d2b1",
   "metadata": {
    "tags": []
   },
   "source": [
    "# LAPD Arrest and Call Data\n",
    "### Call Data is from 2010, 2015, 2020 - Understanding Increases in Call Typology \n",
    "\n",
    "#### Call Typologies: \"Party\",\"Traffic\",\"Racing\",\"General Disturbance\",\"Landlord/Tenant\"\n",
    "\n",
    "### Arrest Data is from 2010-2023 - Understanding Increases in Arrest Typology (Guided by Brenden Beck's Methodoly in \"Policing Gentrification: Stops and Low–Level Arrests during Demographic Change and Real Estate Reinvestment\"\n",
    "\n",
    "#### Arrest Typologies: \"Moving Violations\",\"Weapon Possession\",\"Narcotic Drug Laws\",\"DUI\",\"Disorderly Conduct\",\"Disturbing the Peace\",\"Drunkenness\",\"Misc Other Violations\",\"Prostitution\",\"Possession of Stolen Property\"\n",
    "\n",
    "##### Calls have been filtered to show only Black arrests (continuity with Rent Burden Demographic)"
   ]
  },
  {
   "cell_type": "code",
   "execution_count": 1,
   "id": "20e6c7ea-d6ec-4024-b481-86f4e4df60d6",
   "metadata": {},
   "outputs": [],
   "source": [
    "import pandas as pd\n",
    "import geopandas as gpd\n",
    "import contextily as ctx\n",
    "import matplotlib.pyplot as plt\n",
    "import plotly.express as px\n",
    "import plotly as plot\n",
    "import numpy as np\n",
    "import matplotlib as mpl"
   ]
  },
  {
   "cell_type": "code",
   "execution_count": 2,
   "id": "1946d2f3-c704-40f0-a5c8-09d162cbf5dc",
   "metadata": {},
   "outputs": [],
   "source": [
    "hoods = gpd.read_file('LA_Times_Neighborhood_Boundaries.geojson')"
   ]
  },
  {
   "cell_type": "code",
   "execution_count": 3,
   "id": "fda8cb02-41fc-4d94-bff4-05f6bbb000ca",
   "metadata": {},
   "outputs": [
    {
     "data": {
      "text/html": [
       "<div>\n",
       "<style scoped>\n",
       "    .dataframe tbody tr th:only-of-type {\n",
       "        vertical-align: middle;\n",
       "    }\n",
       "\n",
       "    .dataframe tbody tr th {\n",
       "        vertical-align: top;\n",
       "    }\n",
       "\n",
       "    .dataframe thead th {\n",
       "        text-align: right;\n",
       "    }\n",
       "</style>\n",
       "<table border=\"1\" class=\"dataframe\">\n",
       "  <thead>\n",
       "    <tr style=\"text-align: right;\">\n",
       "      <th></th>\n",
       "      <th>OBJECTID</th>\n",
       "      <th>name</th>\n",
       "      <th>geometry</th>\n",
       "    </tr>\n",
       "  </thead>\n",
       "  <tbody>\n",
       "    <tr>\n",
       "      <th>0</th>\n",
       "      <td>1</td>\n",
       "      <td>Adams-Normandie</td>\n",
       "      <td>POLYGON ((-118.30069 34.03731, -118.30388 34.0...</td>\n",
       "    </tr>\n",
       "    <tr>\n",
       "      <th>1</th>\n",
       "      <td>2</td>\n",
       "      <td>Arleta</td>\n",
       "      <td>POLYGON ((-118.44255 34.26412, -118.44240 34.2...</td>\n",
       "    </tr>\n",
       "    <tr>\n",
       "      <th>2</th>\n",
       "      <td>3</td>\n",
       "      <td>Arlington Heights</td>\n",
       "      <td>POLYGON ((-118.31862 34.05306, -118.31673 34.0...</td>\n",
       "    </tr>\n",
       "    <tr>\n",
       "      <th>3</th>\n",
       "      <td>4</td>\n",
       "      <td>Atwater Village</td>\n",
       "      <td>MULTIPOLYGON (((-118.27886 34.15321, -118.2788...</td>\n",
       "    </tr>\n",
       "    <tr>\n",
       "      <th>4</th>\n",
       "      <td>5</td>\n",
       "      <td>Baldwin Hills/Crenshaw</td>\n",
       "      <td>POLYGON ((-118.36102 34.02532, -118.36026 34.0...</td>\n",
       "    </tr>\n",
       "  </tbody>\n",
       "</table>\n",
       "</div>"
      ],
      "text/plain": [
       "   OBJECTID                    name  \\\n",
       "0         1         Adams-Normandie   \n",
       "1         2                  Arleta   \n",
       "2         3       Arlington Heights   \n",
       "3         4         Atwater Village   \n",
       "4         5  Baldwin Hills/Crenshaw   \n",
       "\n",
       "                                            geometry  \n",
       "0  POLYGON ((-118.30069 34.03731, -118.30388 34.0...  \n",
       "1  POLYGON ((-118.44255 34.26412, -118.44240 34.2...  \n",
       "2  POLYGON ((-118.31862 34.05306, -118.31673 34.0...  \n",
       "3  MULTIPOLYGON (((-118.27886 34.15321, -118.2788...  \n",
       "4  POLYGON ((-118.36102 34.02532, -118.36026 34.0...  "
      ]
     },
     "execution_count": 3,
     "metadata": {},
     "output_type": "execute_result"
    }
   ],
   "source": [
    "hoods.head()"
   ]
  },
  {
   "cell_type": "code",
   "execution_count": 4,
   "id": "fb8e8741-e9eb-4527-bf83-963ad1aa737a",
   "metadata": {},
   "outputs": [],
   "source": [
    "arrests10 = pd.read_csv('Arrest Data 2010.csv')\n",
    "arrests15 = pd.read_csv('Arrest Data 2015.csv')\n",
    "arrests20 = pd.read_csv('Arrest Data 2020-2023.csv')"
   ]
  },
  {
   "cell_type": "markdown",
   "id": "ec64f81a-3b34-4250-8d94-9e597f9e70c0",
   "metadata": {},
   "source": [
    "LAPD Arrest data from 2010, 2015, and 2023-Present which has been filtered for arrests per the arrest methodoloy (Brenden Beck). "
   ]
  },
  {
   "cell_type": "code",
   "execution_count": 5,
   "id": "1ff95308-8147-4154-821f-1e3b1a75321b",
   "metadata": {},
   "outputs": [],
   "source": [
    "blackarrests10 = arrests10[arrests10['Descent Code'] == \"B\"]\n",
    "blackarrests15 = arrests15[arrests15['Descent Code'] == \"B\"]\n",
    "blackarrests20 = arrests20[arrests20['Descent Code'] == \"B\"]"
   ]
  },
  {
   "cell_type": "markdown",
   "id": "074306fa-3870-4149-9263-2ac36948b3a3",
   "metadata": {},
   "source": [
    "Filtering for only arrests of people identified as Black in the Descent Code category of the LAPD data"
   ]
  },
  {
   "cell_type": "code",
   "execution_count": 6,
   "id": "18b017a0-a0a0-4d18-ac7d-24da7a636f00",
   "metadata": {},
   "outputs": [],
   "source": [
    "blackarrests10 = blackarrests10[[\n",
    "    'Area Name','Age','Sex Code','Descent Code','Charge Description','LAT','LON','Location']]\n",
    "blackarrests15 = blackarrests15[[\n",
    "    'Area Name','Age','Sex Code','Descent Code','Charge Description','LAT','LON','Location']]\n",
    "blackarrests20 = blackarrests20[[\n",
    "    'Area Name','Age','Sex Code','Descent Code','Charge Description','LAT','LON','Location']]"
   ]
  },
  {
   "cell_type": "code",
   "execution_count": 28,
   "id": "77e6e7dc-369b-4d6d-a879-65b2d8994d02",
   "metadata": {},
   "outputs": [],
   "source": [
    "hoods = hoods[['name','geometry']]\n",
    "\n",
    "hoods.index = hoods['name']\n",
    "\n",
    "hoodfig = px.choropleth_mapbox(hoods, geojson=hoods.geometry,locations = hoods.index,\n",
    "                           color_continuous_scale=\"viridis\",\n",
    "                           mapbox_style=\"carto-positron\",\n",
    "                           zoom=6, center = {\"lat\": 34.0522, \"lon\": -118.2437},\n",
    "                           opacity=0.04,)"
   ]
  },
  {
   "cell_type": "markdown",
   "id": "98c2e263-27d4-4c37-a0ff-7298357d2e27",
   "metadata": {},
   "source": [
    "Setting up the LA Times neighborhood map"
   ]
  },
  {
   "cell_type": "code",
   "execution_count": 8,
   "id": "d2c38e86-87cc-4804-b6d5-d451c340cf13",
   "metadata": {},
   "outputs": [],
   "source": [
    "df = blackarrests10\n",
    "df2 = blackarrests15\n",
    "df3 = blackarrests20"
   ]
  },
  {
   "cell_type": "code",
   "execution_count": 9,
   "id": "236edb4e-7cbb-4dd5-9d44-ddec4ea3bbb6",
   "metadata": {},
   "outputs": [],
   "source": [
    "gdf = gpd.GeoDataFrame(\n",
    "    df, geometry=gpd.points_from_xy(df.LON, df.LAT))\n",
    "\n",
    "gdf2 = gpd.GeoDataFrame(\n",
    "    df2, geometry=gpd.points_from_xy(df2.LON, df2.LAT))\n",
    "\n",
    "gdf3 = gpd.GeoDataFrame(\n",
    "    df3, geometry=gpd.points_from_xy(df3.LON, df3.LAT))"
   ]
  },
  {
   "cell_type": "markdown",
   "id": "7d3651e7-b550-40a0-b2b1-9ae17dbc32ff",
   "metadata": {},
   "source": [
    "Converting the arrest point data from a Dataframe to Geodataframe this will assist later"
   ]
  },
  {
   "cell_type": "code",
   "execution_count": 10,
   "id": "6be4cab8-f549-40e6-bcc8-b9f2ce5e207a",
   "metadata": {},
   "outputs": [],
   "source": [
    "gdf = gdf[['Area Name','Age','Descent Code','Sex Code','Charge Description','geometry']]\n",
    "gdf2 = gdf2[['Area Name','Age','Descent Code','Sex Code','Charge Description','geometry']]\n",
    "gdf3 = gdf3[['Area Name','Age','Descent Code','Sex Code','Charge Description','geometry']]"
   ]
  },
  {
   "cell_type": "code",
   "execution_count": 11,
   "id": "08233cad-159f-48bb-8cb5-00811abcdb9c",
   "metadata": {},
   "outputs": [],
   "source": [
    "gdf = gdf.set_crs('epsg:4326')\n",
    "gdf2 = gdf2.set_crs('epsg:4326')\n",
    "gdf3 = gdf3.set_crs('epsg:4326')"
   ]
  },
  {
   "cell_type": "markdown",
   "id": "defcb9e5-3064-471e-8b4b-77bc30f703b6",
   "metadata": {},
   "source": [
    "With previous errors, I had learned that the arrest data did not have a set crs.  In this function, I am setting the CRS within the arrests to be the same as the LA neighborhood boundary CRS"
   ]
  },
  {
   "cell_type": "code",
   "execution_count": 12,
   "id": "88d6e2aa-746c-4382-ad26-5d7684ffcfa5",
   "metadata": {},
   "outputs": [],
   "source": [
    "join = gpd.sjoin(gdf, hoods, how=\"inner\", predicate=\"within\")\n",
    "join1 = gpd.sjoin(gdf2, hoods, how=\"inner\", predicate=\"within\")\n",
    "join2 = gpd.sjoin(gdf3, hoods, how=\"inner\", predicate=\"within\")"
   ]
  },
  {
   "cell_type": "markdown",
   "id": "ad8ab3f0-9013-4a6d-9473-83eec8e83905",
   "metadata": {},
   "source": [
    "I have conducted a spatial join of the arrest data and the LA neighborhood boundaries.  This data will only show arrest points which have ocurred within the polygons of the neighborhood boundaries.  This will assist in later heat maps and other visualizations.  As well, this is important as some arrests points ocurred outside of LA City limits.  "
   ]
  },
  {
   "cell_type": "code",
   "execution_count": 13,
   "id": "ef54d560-8f64-4a07-910f-a3b6803615e2",
   "metadata": {},
   "outputs": [],
   "source": [
    "arrests10 = join[['name','Age','Descent Code','Sex Code','Charge Description','geometry']]\n",
    "arrests15 = join1[['name','Age','Descent Code','Sex Code','Charge Description','geometry']]\n",
    "arrests20 = join2[['name','Age','Descent Code','Sex Code','Charge Description','geometry']]"
   ]
  },
  {
   "cell_type": "code",
   "execution_count": 29,
   "id": "e61a8dfd-562b-476c-bc31-4bbabb5cfbf1",
   "metadata": {},
   "outputs": [],
   "source": [
    "arrestfig10 = px.scatter_mapbox(arrests10,\n",
    "                    lat=arrests10.geometry.y,\n",
    "                    lon=arrests10.geometry.x,\n",
    "                    hover_name=\"Age\", color_continuous_scale=\"viridis\",\n",
    "                           mapbox_style=\"carto-positron\",\n",
    "                           zoom=8, center = {\"lat\": 34.0522, \"lon\": -118.2437},\n",
    "                           opacity=0.02)\n",
    "\n",
    "arrest10_map = hoodfig.add_trace(\n",
    "    arrestfig10.data[0])\n",
    "\n",
    "arrest10_map.write_html(\"Low Level Arrests 2010.html\")"
   ]
  },
  {
   "cell_type": "code",
   "execution_count": 30,
   "id": "4b4c4f3d-de95-4d5b-b15d-19cbb3e75b9b",
   "metadata": {},
   "outputs": [],
   "source": [
    "arrestfig15 = px.scatter_mapbox(arrests15,\n",
    "                    lat=arrests15.geometry.y,\n",
    "                    lon=arrests15.geometry.x,\n",
    "                    hover_name=\"Age\", color_continuous_scale=\"viridis\",\n",
    "                           mapbox_style=\"carto-positron\",\n",
    "                           zoom=8, center = {\"lat\": 34.0522, \"lon\": -118.2437},\n",
    "                           opacity=0.02)\n",
    "\n",
    "arrest15_map = hoodfig.add_trace(\n",
    "    arrestfig15.data[0])\n",
    "\n",
    "arrest15_map.write_html(\"Low Level Arrests 2015.html\")"
   ]
  },
  {
   "cell_type": "code",
   "execution_count": 31,
   "id": "b4ab8118-fec5-48ec-a2ba-0c795a381981",
   "metadata": {},
   "outputs": [],
   "source": [
    "arrestfig20 = px.scatter_mapbox(arrests20,\n",
    "                    lat=arrests20.geometry.y,\n",
    "                    lon=arrests20.geometry.x,\n",
    "                    hover_name=\"Age\", color_continuous_scale=\"viridis\",\n",
    "                           mapbox_style=\"carto-positron\",\n",
    "                           zoom=8, center = {\"lat\": 34.0522, \"lon\": -118.2437},\n",
    "                           opacity=0.02)\n",
    "\n",
    "arrest20_map = hoodfig.add_trace(\n",
    "    arrestfig20.data[0])\n",
    "\n",
    "arrest20_map.write_html(\"Low Level Arrests 2020.html\")"
   ]
  },
  {
   "cell_type": "markdown",
   "id": "c39416d8-619e-4cf0-9af7-ea145a811697",
   "metadata": {},
   "source": [
    "These are interactive maps from 2010, 2015, 2020-Present which show the point data for low-level arrests based on our methodology.  From this data, we can begin to build out heat maps which show the total arrests in each neighborhood. "
   ]
  },
  {
   "cell_type": "code",
   "execution_count": 18,
   "id": "11b177d2-17e5-4141-9184-cd2e93f7139e",
   "metadata": {},
   "outputs": [],
   "source": [
    "arrests10.columns = ['name','Age','Descent Code','Sex Code','Charge Description','point']\n",
    "arrests15.columns = ['name','Age','Descent Code','Sex Code','Charge Description','point']\n",
    "arrests20.columns = ['name','Age','Descent Code','Sex Code','Charge Description','point']"
   ]
  },
  {
   "cell_type": "code",
   "execution_count": 19,
   "id": "1fe1f12c-1c28-41d7-a867-a19eb020ff2b",
   "metadata": {},
   "outputs": [
    {
     "data": {
      "text/html": [
       "<div>\n",
       "<style scoped>\n",
       "    .dataframe tbody tr th:only-of-type {\n",
       "        vertical-align: middle;\n",
       "    }\n",
       "\n",
       "    .dataframe tbody tr th {\n",
       "        vertical-align: top;\n",
       "    }\n",
       "\n",
       "    .dataframe thead th {\n",
       "        text-align: right;\n",
       "    }\n",
       "</style>\n",
       "<table border=\"1\" class=\"dataframe\">\n",
       "  <thead>\n",
       "    <tr style=\"text-align: right;\">\n",
       "      <th></th>\n",
       "      <th>name</th>\n",
       "      <th>Age</th>\n",
       "      <th>Descent Code</th>\n",
       "      <th>Sex Code</th>\n",
       "      <th>Charge Description</th>\n",
       "      <th>point</th>\n",
       "    </tr>\n",
       "  </thead>\n",
       "  <tbody>\n",
       "    <tr>\n",
       "      <th>8</th>\n",
       "      <td>Hollywood</td>\n",
       "      <td>23</td>\n",
       "      <td>B</td>\n",
       "      <td>M</td>\n",
       "      <td>POSS ALCH BEV ON POSTED PREM</td>\n",
       "      <td>POINT (-118.33250 34.10340)</td>\n",
       "    </tr>\n",
       "    <tr>\n",
       "      <th>35</th>\n",
       "      <td>Hollywood</td>\n",
       "      <td>31</td>\n",
       "      <td>B</td>\n",
       "      <td>M</td>\n",
       "      <td>VIOLATION OF PAROLE:FELONY</td>\n",
       "      <td>POINT (-118.32110 34.09980)</td>\n",
       "    </tr>\n",
       "    <tr>\n",
       "      <th>84</th>\n",
       "      <td>Hollywood</td>\n",
       "      <td>30</td>\n",
       "      <td>B</td>\n",
       "      <td>M</td>\n",
       "      <td>DUI ALCOHOL CAUSING INJURY</td>\n",
       "      <td>POINT (-118.32520 34.10370)</td>\n",
       "    </tr>\n",
       "    <tr>\n",
       "      <th>101</th>\n",
       "      <td>Hollywood</td>\n",
       "      <td>23</td>\n",
       "      <td>B</td>\n",
       "      <td>M</td>\n",
       "      <td>TRANSPORT/SELL/FURNISH/ETC MARIJUANA</td>\n",
       "      <td>POINT (-118.33870 34.10160)</td>\n",
       "    </tr>\n",
       "    <tr>\n",
       "      <th>190</th>\n",
       "      <td>Hollywood</td>\n",
       "      <td>32</td>\n",
       "      <td>B</td>\n",
       "      <td>M</td>\n",
       "      <td>DRUNK DRIVING ALCOHOL/DRUGS</td>\n",
       "      <td>POINT (-118.32110 34.09980)</td>\n",
       "    </tr>\n",
       "  </tbody>\n",
       "</table>\n",
       "</div>"
      ],
      "text/plain": [
       "          name  Age Descent Code Sex Code  \\\n",
       "8    Hollywood   23            B        M   \n",
       "35   Hollywood   31            B        M   \n",
       "84   Hollywood   30            B        M   \n",
       "101  Hollywood   23            B        M   \n",
       "190  Hollywood   32            B        M   \n",
       "\n",
       "                       Charge Description                        point  \n",
       "8            POSS ALCH BEV ON POSTED PREM  POINT (-118.33250 34.10340)  \n",
       "35             VIOLATION OF PAROLE:FELONY  POINT (-118.32110 34.09980)  \n",
       "84             DUI ALCOHOL CAUSING INJURY  POINT (-118.32520 34.10370)  \n",
       "101  TRANSPORT/SELL/FURNISH/ETC MARIJUANA  POINT (-118.33870 34.10160)  \n",
       "190           DRUNK DRIVING ALCOHOL/DRUGS  POINT (-118.32110 34.09980)  "
      ]
     },
     "execution_count": 19,
     "metadata": {},
     "output_type": "execute_result"
    }
   ],
   "source": [
    "arrests15.head()"
   ]
  },
  {
   "cell_type": "code",
   "execution_count": 20,
   "id": "469d750a-1991-49ff-8694-26a458ed5fd7",
   "metadata": {},
   "outputs": [],
   "source": [
    "arrests10group = arrests10.groupby('name').count()\n",
    "arrests15group = arrests15.groupby('name').count()\n",
    "arrests20group = arrests20.groupby('name').count()"
   ]
  },
  {
   "cell_type": "code",
   "execution_count": 22,
   "id": "aeb96d72-2973-4b87-b10d-8224a263aa60",
   "metadata": {},
   "outputs": [],
   "source": [
    "pd.set_option('display.max_columns', None)\n",
    "pd.set_option('display.max_rows', None)"
   ]
  },
  {
   "cell_type": "markdown",
   "id": "586d8827-3e14-4129-95f6-9801d1fd547e",
   "metadata": {},
   "source": [
    "I won't mark but I utilized the full list of each year in order to export as a csv.  This list of the spatially joined arrest data can then be remerged with the geojson of the LA neighborhoods file in order to create visualizations."
   ]
  },
  {
   "cell_type": "code",
   "execution_count": 23,
   "id": "0087f2b7-6935-4936-8b2a-5da37b4acaca",
   "metadata": {},
   "outputs": [],
   "source": [
    "totals = pd.read_csv('Arrest Counts Joined.csv')"
   ]
  },
  {
   "cell_type": "markdown",
   "id": "becfd67a-d1ee-4ef5-b3db-7cbfa3077fb5",
   "metadata": {},
   "source": [
    "This is the separated list of totals of arrests for the spatially joined neighborhood data.  From this, I can then utilize this data to demonstrate a number of things below. "
   ]
  },
  {
   "cell_type": "code",
   "execution_count": 46,
   "id": "fcb74c63-f742-4281-93e5-9c4bf5bd15f2",
   "metadata": {},
   "outputs": [],
   "source": [
    "df= hoods.merge(totals, left_on=\"name\",right_on=\"Neighborhood\", how=\"outer\") "
   ]
  },
  {
   "cell_type": "code",
   "execution_count": 47,
   "id": "85ba2f3c-5aab-4b5f-868b-a9d4497b39d3",
   "metadata": {},
   "outputs": [],
   "source": [
    "df = df[['Neighborhood','2010','2015','2020','2010 Percent Total','2015 Percent Total','2020 Percent of Total','Percent Change 2010-2023','Burden of Arrest','geometry']]"
   ]
  },
  {
   "cell_type": "code",
   "execution_count": 27,
   "id": "745f363d-e861-4c84-8adc-3ca76d7fc507",
   "metadata": {},
   "outputs": [],
   "source": [
    "df.index = df['Neighborhood']"
   ]
  },
  {
   "cell_type": "code",
   "execution_count": 34,
   "id": "506c4cf5-0c9c-43ec-a000-320d2d77834d",
   "metadata": {},
   "outputs": [],
   "source": [
    "arrestburden = px.choropleth_mapbox(df, geojson=df['geometry'], locations=df.index, color='Burden of Arrest',\n",
    "                               mapbox_style=\"carto-positron\",\n",
    "                               range_color=(0,5),\n",
    "                               zoom=9, \n",
    "                               center = {\"lat\": 34.0522, \"lon\": -118.2437},\n",
    "                               opacity=0.25,\n",
    "                               hover_name = df['Neighborhood'],\n",
    "                               color_continuous_scale = \"Viridis\",)"
   ]
  },
  {
   "cell_type": "code",
   "execution_count": 35,
   "id": "6d514153-2e8b-4551-846d-3294005f4099",
   "metadata": {},
   "outputs": [],
   "source": [
    "arrestburden.write_html(\"Arrest Burden 2010-2023.html\")"
   ]
  },
  {
   "cell_type": "code",
   "execution_count": null,
   "id": "9ec39755-0042-4fa6-a2ed-ee4b3f5250a5",
   "metadata": {},
   "outputs": [],
   "source": []
  }
 ],
 "metadata": {
  "kernelspec": {
   "display_name": "Python 3 (ipykernel)",
   "language": "python",
   "name": "python3"
  },
  "language_info": {
   "codemirror_mode": {
    "name": "ipython",
    "version": 3
   },
   "file_extension": ".py",
   "mimetype": "text/x-python",
   "name": "python",
   "nbconvert_exporter": "python",
   "pygments_lexer": "ipython3",
   "version": "3.10.8"
  }
 },
 "nbformat": 4,
 "nbformat_minor": 5
}
