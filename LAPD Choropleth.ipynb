{
 "cells": [
  {
   "cell_type": "markdown",
   "id": "9cb53717-9b95-40c5-a1d0-8da759f07e41",
   "metadata": {},
   "source": [
    "# Choropleth"
   ]
  },
  {
   "cell_type": "code",
   "execution_count": 65,
   "id": "01eb7e9d-a25a-43f6-815d-679adff39f95",
   "metadata": {},
   "outputs": [],
   "source": [
    "import pandas as pd\n",
    "import geopandas as gpd\n",
    "import contextily as ctx\n",
    "import matplotlib.pyplot as plt\n",
    "import plotly.express as px\n",
    "import plotly as plot\n",
    "import numpy as np\n",
    "import matplotlib as mpl"
   ]
  },
  {
   "cell_type": "code",
   "execution_count": 66,
   "id": "e23cbbce-f9b4-4c78-9a0e-09a560cb814b",
   "metadata": {},
   "outputs": [],
   "source": [
    "arrests = pd.read_csv('Arrest Counts Updated 3.csv')"
   ]
  },
  {
   "cell_type": "markdown",
   "id": "3d88a356-6797-4259-8807-e665afa4b113",
   "metadata": {},
   "source": [
    "Separate Document I created which shows the spatially joined totals of arrests of Black folks for the typologies put forth in the Beck works i.e. Narcotic drug offenses, traffic stops, etc. "
   ]
  },
  {
   "cell_type": "code",
   "execution_count": 67,
   "id": "4919b55d-e8e0-494e-b2a2-3e926805fd04",
   "metadata": {},
   "outputs": [],
   "source": [
    "hoods = gpd.read_file('LA_Times_Neighborhood_Boundaries.geojson')"
   ]
  },
  {
   "cell_type": "code",
   "execution_count": 68,
   "id": "5e8f8441-4493-41af-b93e-d8123aaab862",
   "metadata": {},
   "outputs": [],
   "source": [
    "df= hoods.merge(arrests, left_on=\"name\",right_on=\"Neighborhood\", how=\"outer\") "
   ]
  },
  {
   "cell_type": "code",
   "execution_count": 69,
   "id": "34b83697-1ca1-4486-b650-20e8c7c93020",
   "metadata": {},
   "outputs": [
    {
     "data": {
      "text/html": [
       "<div>\n",
       "<style scoped>\n",
       "    .dataframe tbody tr th:only-of-type {\n",
       "        vertical-align: middle;\n",
       "    }\n",
       "\n",
       "    .dataframe tbody tr th {\n",
       "        vertical-align: top;\n",
       "    }\n",
       "\n",
       "    .dataframe thead th {\n",
       "        text-align: right;\n",
       "    }\n",
       "</style>\n",
       "<table border=\"1\" class=\"dataframe\">\n",
       "  <thead>\n",
       "    <tr style=\"text-align: right;\">\n",
       "      <th></th>\n",
       "      <th>OBJECTID</th>\n",
       "      <th>name</th>\n",
       "      <th>geometry</th>\n",
       "      <th>ID</th>\n",
       "      <th>Neighborhood</th>\n",
       "      <th>Unnamed: 2</th>\n",
       "      <th>2010</th>\n",
       "      <th>2015</th>\n",
       "      <th>2020</th>\n",
       "      <th>2010 Percent Total</th>\n",
       "      <th>2015 Percent Total</th>\n",
       "      <th>2020 Percent of Total</th>\n",
       "      <th>Percent Change 2010-2023</th>\n",
       "      <th>Burden of Arrest</th>\n",
       "    </tr>\n",
       "  </thead>\n",
       "  <tbody>\n",
       "    <tr>\n",
       "      <th>6</th>\n",
       "      <td>7</td>\n",
       "      <td>Beverly Crest</td>\n",
       "      <td>POLYGON ((-118.42910 34.07920, -118.42929 34.0...</td>\n",
       "      <td>7</td>\n",
       "      <td>Beverly Crest</td>\n",
       "      <td>NaN</td>\n",
       "      <td>4.0000</td>\n",
       "      <td>1.0000</td>\n",
       "      <td>11.0000</td>\n",
       "      <td>0.0001</td>\n",
       "      <td>0.0</td>\n",
       "      <td>0.0004</td>\n",
       "      <td>2.3024</td>\n",
       "      <td>0.02</td>\n",
       "    </tr>\n",
       "  </tbody>\n",
       "</table>\n",
       "</div>"
      ],
      "text/plain": [
       "   OBJECTID           name                                           geometry  \\\n",
       "6         7  Beverly Crest  POLYGON ((-118.42910 34.07920, -118.42929 34.0...   \n",
       "\n",
       "   ID   Neighborhood  Unnamed: 2    2010    2015     2020  2010 Percent Total  \\\n",
       "6   7  Beverly Crest         NaN  4.0000  1.0000  11.0000              0.0001   \n",
       "\n",
       "   2015 Percent Total  2020 Percent of Total  Percent Change 2010-2023  \\\n",
       "6                 0.0                 0.0004                    2.3024   \n",
       "\n",
       "   Burden of Arrest  \n",
       "6              0.02  "
      ]
     },
     "execution_count": 69,
     "metadata": {},
     "output_type": "execute_result"
    }
   ],
   "source": [
    "df.sample()"
   ]
  },
  {
   "cell_type": "code",
   "execution_count": 71,
   "id": "d071c8ff-1451-499b-81ff-d70e294580de",
   "metadata": {},
   "outputs": [],
   "source": [
    "df = df[['name','Percent Change 2010-2023','Burden of Arrest','geometry']]"
   ]
  },
  {
   "cell_type": "code",
   "execution_count": 72,
   "id": "2677b75a-1bd1-4956-b5b0-912fe10a5d30",
   "metadata": {},
   "outputs": [
    {
     "data": {
      "text/html": [
       "<div>\n",
       "<style scoped>\n",
       "    .dataframe tbody tr th:only-of-type {\n",
       "        vertical-align: middle;\n",
       "    }\n",
       "\n",
       "    .dataframe tbody tr th {\n",
       "        vertical-align: top;\n",
       "    }\n",
       "\n",
       "    .dataframe thead th {\n",
       "        text-align: right;\n",
       "    }\n",
       "</style>\n",
       "<table border=\"1\" class=\"dataframe\">\n",
       "  <thead>\n",
       "    <tr style=\"text-align: right;\">\n",
       "      <th></th>\n",
       "      <th>name</th>\n",
       "      <th>Percent Change 2010-2023</th>\n",
       "      <th>Burden of Arrest</th>\n",
       "      <th>geometry</th>\n",
       "    </tr>\n",
       "  </thead>\n",
       "  <tbody>\n",
       "    <tr>\n",
       "      <th>0</th>\n",
       "      <td>Adams-Normandie</td>\n",
       "      <td>-0.3895</td>\n",
       "      <td>0.74</td>\n",
       "      <td>POLYGON ((-118.30069 34.03731, -118.30388 34.0...</td>\n",
       "    </tr>\n",
       "    <tr>\n",
       "      <th>1</th>\n",
       "      <td>Arleta</td>\n",
       "      <td>0.0007</td>\n",
       "      <td>0.04</td>\n",
       "      <td>POLYGON ((-118.44255 34.26412, -118.44240 34.2...</td>\n",
       "    </tr>\n",
       "    <tr>\n",
       "      <th>2</th>\n",
       "      <td>Arlington Heights</td>\n",
       "      <td>-0.2387</td>\n",
       "      <td>0.44</td>\n",
       "      <td>POLYGON ((-118.31862 34.05306, -118.31673 34.0...</td>\n",
       "    </tr>\n",
       "    <tr>\n",
       "      <th>3</th>\n",
       "      <td>Atwater Village</td>\n",
       "      <td>0.3724</td>\n",
       "      <td>0.03</td>\n",
       "      <td>MULTIPOLYGON (((-118.27886 34.15321, -118.2788...</td>\n",
       "    </tr>\n",
       "    <tr>\n",
       "      <th>4</th>\n",
       "      <td>Baldwin Hills/Crenshaw</td>\n",
       "      <td>0.0471</td>\n",
       "      <td>1.29</td>\n",
       "      <td>POLYGON ((-118.36102 34.02532, -118.36026 34.0...</td>\n",
       "    </tr>\n",
       "  </tbody>\n",
       "</table>\n",
       "</div>"
      ],
      "text/plain": [
       "                     name  Percent Change 2010-2023  Burden of Arrest  \\\n",
       "0         Adams-Normandie                   -0.3895              0.74   \n",
       "1                  Arleta                    0.0007              0.04   \n",
       "2       Arlington Heights                   -0.2387              0.44   \n",
       "3         Atwater Village                    0.3724              0.03   \n",
       "4  Baldwin Hills/Crenshaw                    0.0471              1.29   \n",
       "\n",
       "                                            geometry  \n",
       "0  POLYGON ((-118.30069 34.03731, -118.30388 34.0...  \n",
       "1  POLYGON ((-118.44255 34.26412, -118.44240 34.2...  \n",
       "2  POLYGON ((-118.31862 34.05306, -118.31673 34.0...  \n",
       "3  MULTIPOLYGON (((-118.27886 34.15321, -118.2788...  \n",
       "4  POLYGON ((-118.36102 34.02532, -118.36026 34.0...  "
      ]
     },
     "execution_count": 72,
     "metadata": {},
     "output_type": "execute_result"
    }
   ],
   "source": [
    "df.head()"
   ]
  },
  {
   "cell_type": "code",
   "execution_count": 81,
   "id": "e352763e-789d-4559-add3-30d01a4fb3e3",
   "metadata": {},
   "outputs": [],
   "source": [
    "fig = px.choropleth_mapbox(df, geojson=df.geometry, locations=df.index, color='Burden of Arrest',\n",
    "                           mapbox_style=\"carto-positron\",\n",
    "                           range_color=(0, 2.75),\n",
    "                           zoom=9.15, \n",
    "                           center = {\"lat\": 34.02, \"lon\": -118.38411},\n",
    "                           opacity=1.0,\n",
    "                           hover_name = 'name')\n",
    "\n",
    "# options on the layout\n",
    "fig.update_layout(\n",
    "    width = 1200,\n",
    "    height = 800,\n",
    "    title = \"Interactive Map - Neighborhood Share in Arrests of Black Individuals (2010-2023) \",\n",
    "    title_y=.96,\n",
    "    title_x=0.455,\n",
    ") \n",
    "\n",
    "fig.write_html(\"Interactive Arrest Burden 2010-2023 Final.html\")"
   ]
  },
  {
   "cell_type": "code",
   "execution_count": null,
   "id": "45fadd35-56a3-43ad-84e2-f95152ba222f",
   "metadata": {},
   "outputs": [],
   "source": []
  }
 ],
 "metadata": {
  "kernelspec": {
   "display_name": "Python 3 (ipykernel)",
   "language": "python",
   "name": "python3"
  },
  "language_info": {
   "codemirror_mode": {
    "name": "ipython",
    "version": 3
   },
   "file_extension": ".py",
   "mimetype": "text/x-python",
   "name": "python",
   "nbconvert_exporter": "python",
   "pygments_lexer": "ipython3",
   "version": "3.10.8"
  }
 },
 "nbformat": 4,
 "nbformat_minor": 5
}
